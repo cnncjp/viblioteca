{
 "metadata": {
  "language_info": {
   "codemirror_mode": {
    "name": "ipython",
    "version": 3
   },
   "file_extension": ".py",
   "mimetype": "text/x-python",
   "name": "python",
   "nbconvert_exporter": "python",
   "pygments_lexer": "ipython3",
   "version": "3.8.6"
  },
  "orig_nbformat": 2,
  "kernelspec": {
   "name": "python386jvsc74a57bd098b0a9b7b4eaaa670588a142fd0a9b87eaafe866f1db4228be72b4211d12040f",
   "display_name": "Python 3.8.6 64-bit ('base': conda)"
  },
  "metadata": {
   "interpreter": {
    "hash": "31f2aee4e71d21fbe5cf8b01ff0e069b9275f58929596ceb00d14d90e3e16cd6"
   }
  }
 },
 "nbformat": 4,
 "nbformat_minor": 2,
 "cells": [
  {
   "cell_type": "code",
   "execution_count": 7,
   "metadata": {},
   "outputs": [
    {
     "output_type": "stream",
     "name": "stdout",
     "text": [
      "-- ./webinar.ieice.org/summary.php?id=172&expandable=3&code=ken&sel=&year=2020 --\n     研究会--2020年   イベント名   2020年度サービスコンピューティング研究会,知能ソフトウェア工学研究会共催研究会    発表年月日   2020/11/13     タイトル   BigData, Social Miningを通した新たなサービスモデルの可能性, 特にコロナ後のダイバーシティ, グローバ ル化を睨んで   著者  橋本隆子(千葉商科大学),    抄録   BigData, 特にSocial Media Mining領域の最新技術動向について事例を交えながら説明すると伴に, コロナ後の新たなサービスモデルの可能性についても触れる. それと伴に長年, ボランティアで進めてきたIEEE Women in Engineeringの活動を通してダイバーシティ, グローバル化を睨んだキャリア形成についても説明する.   キーワード   ソーシャルメディアマイニング, サービス開発, 多様性とグローバル化時代のキャリア開発             Webinar視聴             \n-- ./webinar.ieice.org/summary.php?id=173&expandable=3&code=ken&sel=&year=2020 --\n     研究会--2020年   イベント名   2020年度サービスコンピューティング研究会,知能ソフトウェア工学研究会共催研究会    発表年月日   2020/11/14     タイトル   AI/IoT技術を活用した製造業におけるDXの取り組み - Build Back Betterを目指して New service models via Big Data and Social Mining, especially with diversity and globalization after Corona Pandemic   著者  浦本直彦(三菱ケミカルホールディングス),    抄録   製造業において、AI技術、並びにIoT技術を活用したDXの取り組みに関して、御自身のご経験、並びに産業界全般の動向も踏まえて概説を頂く。   キーワード   デジタルトランスフォーメーション, 人工知能, IoT, 産業応用             Webinar視聴             \n-- ./webinar.ieice.org/summary.php?id=174&expandable=0&code=PNS&sel=&year=2020 --\n     IEICE ICT Pioneers シリーズ--2020年   イベント名   IEICE ICT Pioneers Webinarシリーズ    発表年月日   2020/06/02     タイトル   EDFA 長い冒険の旅   著者  中沢正隆(電子情報通信学会会長),    抄録   (1) EDFA（エルビウム添加光ファイバ増幅器）発明への道(2) EDFAを用いた新たな光伝送技術への挑戦光ソリトン伝送からコヒーレントナイキストパルス伝送へ3つのマルチ(3M)技術（Multi-level modulation with 4096QAM, Multi-core fibers, and Multi-mode control toward Petabit/s transmission）ポスト5Gに向けた無線と光のシームレスな融合(Digital coherent mobile fronthaul)(3) 若い人へのメッセージ(4) まとめ&会長声明 -「コロナ後」の電子情報通信技術の発展に向けて-             Webinar視聴  関連資料ダウンロード             \n-- ./webinar.ieice.org/summary.php?id=175&expandable=0&code=PNS&sel=&year=2020 --\n     IEICE ICT Pioneers シリーズ--2020年   イベント名   IEICE ICT Pioneers Webinarシリーズ    発表年月日   2020/09/24     タイトル   数理工学から見たICT mathematical engineering and IT   著者  甘利　俊一(理化学研究所),    抄録   情報通信技術は、数理的な手法とともに成長してきた。電子情報通信学会を舞台とした、半世紀を超える私の研究を、情報幾何と数理脳科学、人工知能（深層学習）を題材に、その黎明期、発展の現状と問題点、さらに将来への希望を展望したい。また、これからの社会と技術についても語りたい。             Webinar視聴  関連資料ダウンロード             \n-- ./webinar.ieice.org/summary.php?id=176&expandable=0&code=PNS&sel=&year=2020 --\n     IEICE ICT Pioneers シリーズ--2020年   イベント名   IEICE ICT Pioneers Webinarシリーズ    発表年月日   2020/11/26     タイトル   新・半導体戦略   著者  黒田 忠広(東京大),    抄録   ポストコロナの時代を見据えてSociety 5.0への転換が急がれる。そのための基盤技術である半導体が新世紀を迎えようとしている。AI、IoT、5Gが求める半導体技術は何か？加えて、半導体産業にゲームチェンジが起こり、半導体の地政学が国家戦略の文脈で語られるようになった。こうした大激動の時代に、日本の半導体はどこへ行くのであろうか？半導体の歴史を振り返り将来を展望しつつ、半導体戦略を再考したい。             Webinar視聴  関連資料ダウンロード             \n-- ./webinar.ieice.org/summary.php?id=177&expandable=1&code=PRS&sel=&year=2020 --\n     会長あいさつ--2020年   イベント名   電子情報通信学会会長就任挨拶    発表年月日   2020/06/04     タイトル   会長就任にあたって Message from the president   著者  笹瀬 巌(慶応義塾大学),    抄録   ・社会と無線サービス ・本会の価値とは、方向性と変革の姿 ・最近のトピックス、取り組んでいる主な施策 ・活性化へ本会の沿革と創立１００周年宣言 ・スマートの期待と研究の楽しみ ・ヒューマンネットワークを広げましょう             Webinar視聴  関連資料ダウンロード             \n-- ./webinar.ieice.org/summary.php?id=179&expandable=2&code=SOC&sel=CS&year=2013 --\n     ソサイエティ-通信(CS)-2013年   イベント名   2013年度電子情報通信学会総合大会　論文の書き方講座    発表年月日   2013/03/21     タイトル   論文の書き方講座（和文） How to write a paper（in Japanese)   著者  高橋　応明(千葉大学),               Webinar視聴  関連資料ダウンロード             \n-- ./webinar.ieice.org/summary.php?id=180&expandable=2&code=SOC&sel=CS&year=2013 --\n     ソサイエティ-通信(CS)-2013年    発表年月日   2013/03/21     タイトル   論文の書き方講座（英文）【初級編】 How to write a paper（in English)   著者  岩井　誠人(同志社大学),               Webinar視聴  関連資料ダウンロード             \n-- ./webinar.ieice.org/summary.php?id=181&expandable=2&code=SOC&sel=CS&year=2013 --\n     ソサイエティ-通信(CS)-2013年    発表年月日   2013/03/21     タイトル   回答文の書き方 How to write a reply letter   著者  上原　秀幸(豊橋技術科学大学),               Webinar視聴  関連資料ダウンロード             \n-- ./webinar.ieice.org/summary.php?id=182&expandable=0&code=PNS&sel=&year=2021 --\n     IEICE ICT Pioneers シリーズ--2021年   イベント名   IEICE ICT Pioneers Webinarシリーズ    発表年月日   2021/01/19     タイトル   スーパーコンピュータ「富岳」の開発とコデザイン   著者  佐藤 三久(理化学研究所計算科学研究センター),    抄録   スーパーコンピュータ「富岳」は、独自開発の国産メニーコアプロセッサA64FX15万チップを結合した大規模な並列コンピュータであり、2020年には様々なスパコンのベンチマーク・ランキングで世界1位となった。2014年から7年間で「富岳」を開発したフラグシップ2020プロジェクトにおいては、理化学研究所と富士通が、計算科学のアプリケーションとのコデザインを行ってシステム開発を進めてきた。「富岳」の概要とともに、そのコデザインについて概説する。             Webinar視聴  関連資料ダウンロード             \n-- ./webinar.ieice.org/summary.php?id=184&expandable=0&code=PNS&sel=&year=2021 --\n     IEICE ICT Pioneers シリーズ--2021年   イベント名   IEICE ICT Pioneers Webinarシリーズ    発表年月日   2021/02/17     タイトル   情報の時代を勝手に俯瞰する   著者  原島 博(東京大学),    抄録   いまは情報の時代と言われます。ここでは、その歴史を俯瞰して、あわせて未来を勝手に展望します。電子的な情報技術の歴史は19世紀にさかのぼりますが、もちろん情報の歴史はそれだけではありません。一方でコンピュータは終戦後の1946年に誕生しました。実は私はその前年に生まれています。まさに同世代ですが、それだけに情報の時代のこれからが気になります。それはバラ色の未来を約束するのでしょうか。             Webinar視聴  関連資料ダウンロード             \n-- ./webinar.ieice.org/summary.php?id=186&expandable=0&code=PNS&sel=&year=2021 --\n     IEICE ICT Pioneers シリーズ--2021年   イベント名   IEICE ICT Pioneers Webinarシリーズ    発表年月日   2021/03/18     タイトル   社会情報基盤を構築するための工学とは？   著者  安浦　寛人(九州大学),    抄録   昨年からのCOVID-19の感染拡大により、社会の各分野でDX(Digital Transformation)が叫ばれている。Society5.0を標榜していたにもかかわらず、 我が国の社会情報基盤の脆弱さは、様々な側面で明らかになり、ようやく社会全体が情報ネットワークと計算機構とデータ基盤からなる新しい社会情報基盤の 構築の必要性を認識し始めた。本講演では、作りたい社会像から様々な先端技術を組み合わせて、持続的かつ安 全・安心な社会情報基盤を作るための方策を議論する。             Webinar視聴  関連資料ダウンロード             \n"
     ]
    }
   ],
   "source": [
    "from bs4 import BeautifulSoup\n",
    "from glob import iglob\n",
    "import os\n",
    "import re\n",
    "import mysql.connector as my\n",
    "\n",
    "con = my.connect(host=\"db\", database=\"viblioteca\", user=\"viblioteca\", password=\"viblioteca\")\n",
    "try:\n",
    "    cur = con.cursor()\n",
    "    try:\n",
    "        cur.execute(\"delete from contents\")\n",
    "        for filename in iglob(\"./webinar.ieice.org/**/*\", recursive=True):\n",
    "            if os.path.isdir(filename): continue\n",
    "            soup = BeautifulSoup(open(filename, encoding=\"utf8\", errors='ignore'), 'html.parser')\n",
    "            iframe = soup.iframe\n",
    "            if not iframe: continue\n",
    "            print(f\"-- {filename} --\")\n",
    "            title = soup.title.get_text()\n",
    "            summary = soup.find(id='summary')\n",
    "            w = iframe[\"width\"]\n",
    "            h = iframe[\"height\"]\n",
    "            id = iframe[\"src\"].split(\"/\")[-1:][0]\n",
    "            #src=\"https://player.vimeo.com/video/489189921\" \n",
    "            thumb = f\"https://i.vimeocdn.com/video/{id}.webp?mw=900&mh=507\"\n",
    "            if summary:\n",
    "                description = re.sub('( +)|\\n', ' ', summary.get_text())\n",
    "                print(description)\n",
    "                cur.execute(\n",
    "                    \"insert into contents (url, org, title, description, filename, tag, width, height, thumbUrl) \"\n",
    "                    \"values (%s, '電子情報通信学会', %s, %s, %s, %s, %s, %s, %s)\",\n",
    "                    (\"https:/\" + filename[1:], title, description, filename, str(iframe), w, h, thumb))\n",
    "    finally:\n",
    "        cur.close()\n",
    "finally:\n",
    "    con.commit()\n",
    "    con.close()\n"
   ]
  },
  {
   "cell_type": "code",
   "execution_count": 3,
   "metadata": {},
   "outputs": [
    {
     "output_type": "stream",
     "name": "stdout",
     "text": [
      "check.ipynb  wget.log  wg.sh  work  www.ieice.org\n"
     ]
    }
   ],
   "source": [
    "!ls"
   ]
  },
  {
   "cell_type": "code",
   "execution_count": null,
   "metadata": {},
   "outputs": [],
   "source": []
  }
 ]
}