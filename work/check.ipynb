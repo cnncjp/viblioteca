{
 "cells": [
  {
   "cell_type": "markdown",
   "metadata": {},
   "source": [
    "# 定数・クラス定義"
   ]
  },
  {
   "cell_type": "code",
   "execution_count": 23,
   "metadata": {},
   "outputs": [],
   "source": [
    "# 定数定義\n",
    "DB_HOST=\"db\"\n",
    "DB_NAME=\"viblioteca\"\n",
    "DB_USER=\"viblioteca\"\n",
    "DB_PASS=\"viblioteca\"\n",
    "GOOGLE_API_KEY=\"YOUR_API_KEY_FOR_YOUTUBE\"\n",
    "YOUTUBE_CHANNELS = {\n",
    "    \"電子情報通信学会\": \"UCDMkjDeK_8WafkMvIfbtTKQ\",\n",
    "    \"情報処理学会\": \"UC8uVGnC5MTi4KnbJGNFUXog\"}\n",
    "\n",
    "# クラス定義\n",
    "import mysql.connector as my\n",
    "\n",
    "class DB:\n",
    "    def __init__(self, init=True):\n",
    "        self.con = my.connect(host=DB_HOST, database=DB_NAME, user=DB_USER, password=DB_PASS)\n",
    "        self.cur = self.con.cursor()\n",
    "        if init:\n",
    "            self.cur.execute(\"delete from contents;\")\n",
    "            self.cur.execute(\"ALTER TABLE contents AUTO_INCREMENT=1;\")\n",
    "            \n",
    "    def __enter__(self):\n",
    "        return self\n",
    "\n",
    "    def __exit__(self, exception_type, exception_value, traceback):\n",
    "        self.cur.close()\n",
    "        self.con.commit()\n",
    "        self.con.close()\n",
    "    \n",
    "    def insert(self, org, title, description, w, h, indexTexts, type, url, embeddable, filename,\n",
    "               tag, thumbUrl, viewCount, likeCount, dislikeCount, favoriteCount, commentCount):\n",
    "        self.cur.execute(\n",
    "            \"insert into contents (org, title, description, width, height, indexText, type, url, \"\n",
    "            \"embeddable, filename, tag, thumbUrl, viewCount, likeCount, dislikeCount, favoriteCount, commentCount) \"\n",
    "            \"values (%s, %s, %s, %s, %s, %s, %s, %s, %s, %s, %s, %s, %s, %s, %s, %s, %s)\",\n",
    "            (org, title, description, w, h, indexTexts, type, url, embeddable, filename, tag, thumbUrl,\n",
    "            viewCount, likeCount, dislikeCount, favoriteCount, commentCount))\n",
    "\n",
    "import re\n",
    "\n",
    "def stripSpaces(str):\n",
    "    return re.sub(r'([ 　]+)|\\n', ' ', str).strip()"
   ]
  },
  {
   "cell_type": "markdown",
   "metadata": {},
   "source": [
    "# 電子情報通信学会ウェビナーサイトをクロールする"
   ]
  },
  {
   "cell_type": "code",
   "execution_count": null,
   "metadata": {},
   "outputs": [],
   "source": [
    "!wget -q \\\n",
    "  -R doc,zip,jpg,gif,ico,png,JPG,GIF,PNG,jpeg,JPEG,pdf,PDF,svg,SVG,css,CSS,js,JS,mp4 \\\n",
    "  -r https://webinar.ieice.org/\n",
    "!echo `ls -laR | grep -c '^-'` files downloaded"
   ]
  },
  {
   "cell_type": "markdown",
   "metadata": {},
   "source": [
    "# 電子情報通信学会ウェビナーサイトからクロールしたデータをDBに取り込む"
   ]
  },
  {
   "cell_type": "code",
   "execution_count": 25,
   "metadata": {},
   "outputs": [
    {
     "name": "stdout",
     "output_type": "stream",
     "text": [
      "19 entries inserted.\n"
     ]
    }
   ],
   "source": [
    "from bs4 import BeautifulSoup\n",
    "from glob import iglob\n",
    "import os\n",
    "import re\n",
    "import mysql.connector as my\n",
    "\n",
    "with DB() as db:\n",
    "    c = 0\n",
    "    for filename in iglob(\"./webinar.ieice.org/**/*\", recursive=True):\n",
    "        if os.path.isdir(filename): continue\n",
    "        soup = BeautifulSoup(open(filename, encoding=\"utf8\", errors='ignore'), 'html.parser')\n",
    "        iframe = soup.iframe\n",
    "        if not iframe: continue\n",
    "        title = soup.title.get_text()\n",
    "        summary = soup.find(id='summary')\n",
    "        w = iframe[\"width\"]\n",
    "        h = iframe[\"height\"]\n",
    "        id = iframe[\"src\"].split(\"/\")[-1:][0]\n",
    "        #src=\"https://player.vimeo.com/video/489189921\" \n",
    "        thumb = \"nothumb.png\"  #f\"https://i.vimeocdn.com/video/{id}.webp?mw=900&mh=507\"\n",
    "        if summary:\n",
    "            desc = stripSpaces(summary.get_text())\n",
    "            indexTexts = stripSpaces(title) + ' ' + desc\n",
    "            db.insert('電子情報通信学会', title, desc, w, h, indexTexts,\n",
    "                      \"custom\", \"https:/\" + filename[1:], False,\n",
    "                      filename, str(iframe), thumb, 0, 0, 0, 0, 0)\n",
    "            c += 1\n",
    "    print(f\"{c} entries inserted.\")\n"
   ]
  },
  {
   "cell_type": "markdown",
   "metadata": {},
   "source": [
    "# YouTubeから電子情報通信学会と情報処理学会の動画リストを取得する"
   ]
  },
  {
   "cell_type": "code",
   "execution_count": 26,
   "metadata": {},
   "outputs": [
    {
     "name": "stdout",
     "output_type": "stream",
     "text": [
      "39 movies found on 電子情報通信学会 channel.\n",
      "76 movies found on 情報処理学会 channel.\n"
     ]
    }
   ],
   "source": [
    "from apiclient.discovery import build\n",
    "\n",
    "\n",
    "with DB(init=False) as db:\n",
    "    youtube = build('youtube', 'v3', developerKey=GOOGLE_API_KEY)\n",
    "    for org, channelId in YOUTUBE_CHANNELS.items():\n",
    "        c = 0\n",
    "        channel = youtube.channels().list(part=\"contentDetails\", id=channelId).execute();\n",
    "        pageId = channel[\"items\"][0][\"contentDetails\"][\"relatedPlaylists\"][\"uploads\"]\n",
    "        nextPageToken = None\n",
    "        while True:\n",
    "            videos = youtube.playlistItems().list(part=\"snippet\", \n",
    "                playlistId=pageId, pageToken=nextPageToken).execute()\n",
    "            nextPageToken = videos.get(\"nextPageToken\", None)\n",
    "            for item in videos[\"items\"]:\n",
    "                id = item[\"snippet\"][\"resourceId\"][\"videoId\"]\n",
    "                title = stripSpaces(item[\"snippet\"][\"title\"])\n",
    "                desc = stripSpaces(item[\"snippet\"][\"description\"])\n",
    "                url = f\"https://www.youtube.com/embed/{id}\"\n",
    "                thumbUrl = f\"https://img.youtube.com/vi/{id}/mqdefault.jpg\"\n",
    "                stats = youtube.videos().list(part =\"statistics\", id=id).execute()[\"items\"][0][\"statistics\"]\n",
    "                db.insert(org, title, desc, 120, 90, title + \" \" + desc,\n",
    "                          \"youtube\", url, True, \"\", \"\", thumbUrl,\n",
    "                          stats[\"viewCount\"], stats[\"likeCount\"], stats[\"dislikeCount\"],\n",
    "                          stats[\"favoriteCount\"], stats[\"commentCount\"])\n",
    "                c += 1\n",
    "            if not nextPageToken: break\n",
    "        print(f\"{c} movies found on {org} channel.\")\n"
   ]
  }
 ],
 "metadata": {
  "kernelspec": {
   "display_name": "Python 3 (ipykernel)",
   "language": "python",
   "name": "python3"
  },
  "language_info": {
   "codemirror_mode": {
    "name": "ipython",
    "version": 3
   },
   "file_extension": ".py",
   "mimetype": "text/x-python",
   "name": "python",
   "nbconvert_exporter": "python",
   "pygments_lexer": "ipython3",
   "version": "3.9.7"
  },
  "metadata": {
   "interpreter": {
    "hash": "31f2aee4e71d21fbe5cf8b01ff0e069b9275f58929596ceb00d14d90e3e16cd6"
   }
  }
 },
 "nbformat": 4,
 "nbformat_minor": 4
}
