{
 "cells": [
  {
   "cell_type": "markdown",
   "metadata": {},
   "source": [
    "# 設定読み込み・クラス定義"
   ]
  },
  {
   "cell_type": "code",
   "execution_count": 2,
   "metadata": {},
   "outputs": [],
   "source": [
    "from ruamel import yaml\n",
    "\n",
    "# 設定読み込み(config.ymlが存在しなければconfig.yml.sampleをコピーする)\n",
    "sampleConfigPath = \"config.yml.sample\"\n",
    "configPath = \"config.yml\"\n",
    "if not os.path.exists(configPath):\n",
    "    shutil.copyfile(sampleConfigPath, configPath)\n",
    "    print(f\"{configPath} was created from {sampleConfigPath}\")\n",
    "with open(configPath, 'r') as f:\n",
    "    config = yaml.safe_load(f)\n",
    "\n",
    "# クラス定義\n",
    "import mysql.connector as my\n",
    "\n",
    "class DB:\n",
    "    def __init__(self, dbConfig, init=True):\n",
    "        self.con = my.connect(host=dbConfig[\"host\"], database=dbConfig[\"name\"],\n",
    "                              user=dbConfig[\"user\"], password=dbConfig[\"pass\"])\n",
    "        self.cur = self.con.cursor()\n",
    "        if init:\n",
    "            self.cur.execute(\"delete from contents;\")\n",
    "            self.cur.execute(\"ALTER TABLE contents AUTO_INCREMENT=1;\")\n",
    "            \n",
    "    def __enter__(self):\n",
    "        return self\n",
    "\n",
    "    def __exit__(self, exception_type, exception_value, traceback):\n",
    "        self.cur.close()\n",
    "        self.con.commit()\n",
    "        self.con.close()\n",
    "    \n",
    "    def insert(self, org, title, description, w, h, indexTexts, type, url, embeddable, filename,\n",
    "               tag, thumbUrl, viewCount, likeCount, dislikeCount, favoriteCount, commentCount,\n",
    "               publishedAt):\n",
    "        self.cur.execute(\n",
    "            \"insert into contents (org, title, description, width, height, indexText, type, url, \"\n",
    "            \"embeddable, filename, tag, thumbUrl, \"\n",
    "            \"viewCount, likeCount, dislikeCount, favoriteCount, commentCount, \"\n",
    "            \"publishedAt) \"\n",
    "            \"values (%s, %s, %s, %s, %s, %s, %s, %s, \"\n",
    "            \"%s, %s, %s, %s, \"\n",
    "            \"%s, %s, %s, %s, %s, \"\n",
    "            \"%s)\",\n",
    "            (org, title, description, w, h, indexTexts, type, url, \n",
    "             embeddable, filename, tag, thumbUrl,\n",
    "             viewCount, likeCount, dislikeCount, favoriteCount, commentCount, \n",
    "             publishedAt))\n",
    "        \n",
    "    def deleteByType(self, type):\n",
    "        self.cur.execute(\n",
    "            \"delete from contents where type=%s\",\n",
    "            (type,))\n",
    "\n",
    "\n",
    "    def deleteByTypeAndOrg(self, type, org):\n",
    "        self.cur.execute(\n",
    "            \"delete from contents where type=%s and org=%s\",\n",
    "            (type, org))\n",
    "\n",
    "import re\n",
    "\n",
    "def stripSpaces(str):\n",
    "    return re.sub(r'([ 　]+)|\\n', ' ', str).strip()\n",
    "\n",
    "\n",
    "class IEICEWebinarSummary:\n",
    "    def __init__(self, summaryDiv):\n",
    "        summaries = summaryDiv.find_all(\"tr\")\n",
    "        self.category = stripSpaces(summaries[0].get_text())\n",
    "\n",
    "        self.eventName = None\n",
    "        self.publishedAt = None\n",
    "        self.title = None\n",
    "        self.author = None\n",
    "        self.abstract = None\n",
    "        self.keywords = None\n",
    "        def setEventName(t): self.eventName = t\n",
    "        def setPublishedAt(t): self.publishedAt = t\n",
    "        def setTitle(t): self.title = t\n",
    "        def setAuthor(t): self.author = t\n",
    "        def setAbstract(t): self.abstract = t\n",
    "        def setKeywords(t): self.keywords = t\n",
    "        idxs = {\n",
    "            \"イベント名\": setEventName,\n",
    "            \"発表年月日\": setPublishedAt,\n",
    "            \"受賞年月日\": setPublishedAt,\n",
    "            \"タイトル\": setTitle,\n",
    "            \"著者\": setAuthor,\n",
    "            \"抄録\": setAbstract,\n",
    "            \"キーワード\": setKeywords}\n",
    "        \n",
    "        n = len(summaries)\n",
    "        for i in range(1, n):\n",
    "            name = stripSpaces(summaries[i].get_text())\n",
    "            if i + 1 < n and name in idxs:\n",
    "                idxs[name](stripSpaces(summaries[i + 1].get_text()))\n",
    "            i += 1\n"
   ]
  },
  {
   "cell_type": "markdown",
   "metadata": {},
   "source": [
    "# 電子情報通信学会ウェビナーサイトをクロールする"
   ]
  },
  {
   "cell_type": "code",
   "execution_count": null,
   "metadata": {},
   "outputs": [],
   "source": [
    "!wget -q \\\n",
    "  -R doc,zip,jpg,gif,ico,png,JPG,GIF,PNG,jpeg,JPEG,pdf,PDF,svg,SVG,css,CSS,js,JS,mp4 \\\n",
    "  -r https://webinar.ieice.org/\n",
    "!echo `ls -laR | grep -c '^-'` files downloaded"
   ]
  },
  {
   "cell_type": "markdown",
   "metadata": {},
   "source": [
    "# 電子情報通信学会ウェビナーサイトからクロールしたデータをDBに取り込む"
   ]
  },
  {
   "cell_type": "code",
   "execution_count": 100,
   "metadata": {},
   "outputs": [
    {
     "name": "stdout",
     "output_type": "stream",
     "text": [
      "ignore: {'情報ネットワークの周辺で画像と共に半世紀', '数理工学から見たICT', 'BigData, Social Miningを通した新たなサービスモデルの可能性', 'スーパーコンピュータ「富岳」の開発とコデザイン', 'IoT技術を活用した製造業におけるDXの取り組み', '移動無線通信技術の発展と将来展望', '会長就任にあたって', '情報の時代を勝手に俯瞰する', 'データの時代', '電波科学の100年と持続可能な発展への取り組みの道すがら、想うこと', '新・半導体戦略', 'EDFA 長い冒険の旅', '社会情報基盤を構築するための工学とは？', '移動体通信の未来', '本当の感覚通信を求めて', 'Smartcityによる自立分散社会の実現へ'} on IEICE webinar.\n",
      "3 entries inserted.\n"
     ]
    }
   ],
   "source": [
    "from bs4 import BeautifulSoup\n",
    "from glob import iglob\n",
    "import os\n",
    "import re\n",
    "import mysql.connector as my\n",
    "\n",
    "with open('duplicatedTitleOnIEICEWebinar.txt', 'r') as f:\n",
    "    ignoreTitleKeywords = {l.strip() for l in f.readlines() if l[0] != \"#\"}\n",
    "print(f\"ignore: {str(ignoreTitleKeywords)} on IEICE webinar.\")\n",
    "\n",
    "\n",
    "with DB(dbConfig=config[\"db\"], init=False) as db:\n",
    "    db.deleteByType(\"ieicewebinar\")\n",
    "    c = 0\n",
    "    for filename in iglob(\"./webinar.ieice.org/**/*\", recursive=True):\n",
    "        if os.path.isdir(filename): continue\n",
    "        soup = BeautifulSoup(open(filename, encoding=\"utf8\", errors='ignore'), 'html.parser')\n",
    "        iframe = soup.iframe\n",
    "        if not iframe: continue\n",
    "        title = soup.title.get_text()\n",
    "        found = False\n",
    "        for kw in ignoreTitleKeywords:\n",
    "            if kw in title and \"IEICE Ondemand Webinar - \" in title:\n",
    "                found = True\n",
    "                break\n",
    "        if found: continue\n",
    "        summary = soup.find(id='summary')\n",
    "        w = iframe[\"width\"]\n",
    "        h = iframe[\"height\"]\n",
    "        id = iframe[\"src\"].split(\"/\")[-1:][0]\n",
    "        #src=\"https://player.vimeo.com/video/489189921\" \n",
    "        thumb = \"nothumb.png\"  #f\"https://i.vimeocdn.com/video/{id}.webp?mw=900&mh=507\"\n",
    "        if summary:\n",
    "            s = IEICEWebinarSummary(summary)\n",
    "            desc = stripSpaces(summary.get_text())\n",
    "            indexTexts = stripSpaces(title) + ' ' + desc\n",
    "            db.insert('電子情報通信学会', title, desc, w, h, indexTexts,\n",
    "                      \"ieicewebinar\", \"https:/\" + filename[1:], False,\n",
    "                      filename, str(iframe), thumb, 0, 0, 0, 0, 0,\n",
    "                      s.publishedAt)\n",
    "            c += 1\n",
    "    print(f\"{c} entries inserted.\")\n"
   ]
  },
  {
   "cell_type": "markdown",
   "metadata": {},
   "source": [
    "# YouTubeから動画リストを取得する"
   ]
  },
  {
   "cell_type": "code",
   "execution_count": null,
   "metadata": {},
   "outputs": [],
   "source": [
    "from apiclient.discovery import build\n",
    "from datetime import datetime\n",
    "\n",
    "ignoreOrgs=set(config[\"youtube\"][\"ignoreOrgs\"])\n",
    "\n",
    "with DB(dbConfig=config[\"db\"], init=False) as db:\n",
    "    youtube = build('youtube', 'v3', developerKey=config[\"google\"][\"apiKey\"])\n",
    "    for channelId, orgName in config[\"youtube\"][\"channels\"].items():\n",
    "        if orgName in ignoreOrgs: continue\n",
    "        db.deleteByTypeAndOrg(\"youtube\", orgName)\n",
    "        c = 0\n",
    "        channel = youtube.channels().list(part=\"contentDetails\", id=channelId).execute();\n",
    "        pageId = channel[\"items\"][0][\"contentDetails\"][\"relatedPlaylists\"][\"uploads\"]\n",
    "        nextPageToken = None\n",
    "        while True:\n",
    "            videos = youtube.playlistItems().list(part=\"snippet\", \n",
    "                playlistId=pageId, pageToken=nextPageToken).execute()\n",
    "            nextPageToken = videos.get(\"nextPageToken\", None)\n",
    "            for item in videos[\"items\"]:\n",
    "                id = item[\"snippet\"][\"resourceId\"][\"videoId\"]\n",
    "                publishedAt = item[\"snippet\"][\"publishedAt\"]\n",
    "                title = stripSpaces(item[\"snippet\"][\"title\"])\n",
    "                desc = stripSpaces(item[\"snippet\"][\"description\"])\n",
    "                url = f\"https://www.youtube.com/embed/{id}\"\n",
    "                thumbUrl = f\"https://img.youtube.com/vi/{id}/mqdefault.jpg\"\n",
    "                stats = youtube.videos().list(part =\"statistics\", id=id).execute()[\"items\"][0][\"statistics\"]\n",
    "                db.insert(orgName, title, desc, 120, 90, title + \" \" + desc,\n",
    "                          \"youtube\", url, True, \"\", \"\", thumbUrl,\n",
    "                          stats.get(\"viewCount\", -1),\n",
    "                          stats.get(\"likeCount\", -1),\n",
    "                          stats.get(\"dislikeCount\", -1),\n",
    "                          stats.get(\"favoriteCount\", -1),\n",
    "                          stats.get(\"commentCount\", -1),\n",
    "                          datetime.fromisoformat(publishedAt.replace('Z', '+00:00')))\n",
    "                c += 1\n",
    "            if not nextPageToken: break\n",
    "        print(f\"{c} movies found on {orgName} channel.\")\n"
   ]
  },
  {
   "cell_type": "markdown",
   "metadata": {},
   "source": [
    "configに記述されているYouTubeチャンネルの一覧を出力する"
   ]
  },
  {
   "cell_type": "code",
   "execution_count": 4,
   "metadata": {},
   "outputs": [
    {
     "name": "stdout",
     "output_type": "stream",
     "text": [
      "* 電子情報通信学会 https://youtube.com/channel/UCDMkjDeK_8WafkMvIfbtTKQ\n",
      "* 情報処理学会 https://youtube.com/channel/UC8uVGnC5MTi4KnbJGNFUXog\n",
      "* 情報処理学会インタラクションシンポジウム https://youtube.com/channel/UCVzAsIAtO8aVCV43QNF48XA\n",
      "* sigec https://youtube.com/channel/UCg6i7YNuslvlN0_RlZQ-ggQ\n",
      "* Dr. AyumiとDr. MoeのUBIチャンネル https://youtube.com/channel/UCtqftmHFhN6DsHGjfVqneAA\n",
      "* DBSJ最強データベース講義 https://youtube.com/channel/UCaOkRhbjsqviiDQdKn-p0HA\n",
      "* signl ipsj https://youtube.com/channel/UClzd97uGh4I_nwRM4hbgZqw\n",
      "* AAC IPSJ https://youtube.com/channel/UCXWW29NBsGlvgsj9bNo_CoA\n"
     ]
    }
   ],
   "source": [
    "for channelId, orgName in config[\"youtube\"][\"channels\"].items():\n",
    "    print(f\"* {orgName} https://youtube.com/channel/{channelId}\")"
   ]
  },
  {
   "cell_type": "code",
   "execution_count": null,
   "metadata": {},
   "outputs": [],
   "source": []
  }
 ],
 "metadata": {
  "kernelspec": {
   "display_name": "Python 3 (ipykernel)",
   "language": "python",
   "name": "python3"
  },
  "language_info": {
   "codemirror_mode": {
    "name": "ipython",
    "version": 3
   },
   "file_extension": ".py",
   "mimetype": "text/x-python",
   "name": "python",
   "nbconvert_exporter": "python",
   "pygments_lexer": "ipython3",
   "version": "3.9.7"
  },
  "metadata": {
   "interpreter": {
    "hash": "31f2aee4e71d21fbe5cf8b01ff0e069b9275f58929596ceb00d14d90e3e16cd6"
   }
  }
 },
 "nbformat": 4,
 "nbformat_minor": 4
}
